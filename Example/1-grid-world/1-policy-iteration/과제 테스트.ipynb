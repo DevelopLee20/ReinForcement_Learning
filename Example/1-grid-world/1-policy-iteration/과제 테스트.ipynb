{
 "cells": [
  {
   "cell_type": "code",
   "execution_count": 9,
   "metadata": {},
   "outputs": [
    {
     "data": {
      "text/plain": [
       "0.1"
      ]
     },
     "execution_count": 9,
     "metadata": {},
     "output_type": "execute_result"
    }
   ],
   "source": [
    "POSSIBLE_ACTIONS = (\n",
    "                [[[0,0.1,0,0,0.9,0,0,0], [], [0,0,1.0,0,0,0,0,0]],\n",
    "                [[0.5,0,0,0.5,0,0,0,0], [0.2,0,0,0.8,0,0,0,0], [0.6,0,0,0,0,0,0,0.4]],\n",
    "                [[], [0.4,0,0,0,0,0.2,0.4,0], []]]\n",
    "            )\n",
    "\n",
    "POSSIBLE_ACTIONS[0][0]"
   ]
  }
 ],
 "metadata": {
  "interpreter": {
   "hash": "fd398900a70625e827cb14e3699b00f9efbe7fe63d25b7c21b6898ce403657b9"
  },
  "kernelspec": {
   "display_name": "Python 3.9.7 ('base')",
   "language": "python",
   "name": "python3"
  },
  "language_info": {
   "codemirror_mode": {
    "name": "ipython",
    "version": 3
   },
   "file_extension": ".py",
   "mimetype": "text/x-python",
   "name": "python",
   "nbconvert_exporter": "python",
   "pygments_lexer": "ipython3",
   "version": "3.9.7"
  },
  "orig_nbformat": 4
 },
 "nbformat": 4,
 "nbformat_minor": 2
}
